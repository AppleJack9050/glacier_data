{
 "cells": [
  {
   "cell_type": "code",
   "execution_count": 22,
   "id": "3feec7eb",
   "metadata": {},
   "outputs": [],
   "source": [
    "import pandas as pd"
   ]
  },
  {
   "cell_type": "code",
   "execution_count": 27,
   "id": "6fd08673",
   "metadata": {},
   "outputs": [],
   "source": [
    "def convert_metrics_log(\n",
    "    input_path: str,\n",
    "    output_path: str = None,\n",
    "    skip_footer: bool = True\n",
    ") -> pd.DataFrame:\n",
    "    \"\"\"\n",
    "    Read a comma-delimited .log of system metrics, \n",
    "    strip '%' and convert the percent columns into decimal fractions,\n",
    "    convert timestamp to datetime, and write out as .csv.\n",
    "\n",
    "    Parameters\n",
    "    ----------\n",
    "    input_path : str\n",
    "        Path to the .log file.\n",
    "    output_path : str, optional\n",
    "        Path for the output .csv file. If None, replaces the\n",
    "        .log extension with .csv in the same directory.\n",
    "    skip_footer : bool, default True\n",
    "        Whether to drop a footer line (e.g. \"Total duration…\")\n",
    "        using `skipfooter=1`.\n",
    "    \n",
    "    Returns\n",
    "    -------\n",
    "    pd.DataFrame\n",
    "        The cleaned DataFrame with percent-as-fraction columns.\n",
    "    \"\"\"\n",
    "    # Determine output filename\n",
    "    if output_path is None:\n",
    "        base, _ = os.path.splitext(input_path)\n",
    "        output_path = f\"{base}.csv\"\n",
    "\n",
    "    # 1) Read the log, dropping any footer if requested\n",
    "    read_kwargs = {}\n",
    "    if skip_footer:\n",
    "        read_kwargs = dict(engine='python', skipfooter=1)\n",
    "    df = pd.read_csv(input_path, **read_kwargs)\n",
    "\n",
    "    # 2) Strip '%' and convert to numeric floats\n",
    "    pct_cols = ['cpu_percent', 'mem_percent', 'gpu_util_percent', 'gpu_mem_used_mb']\n",
    "    for col in pct_cols:\n",
    "        df[col] = pd.to_numeric(df[col].str.rstrip('%'), errors='coerce')\n",
    "\n",
    "    # 3) Convert those to decimal fractions (e.g. 7.22 → 0.0722)\n",
    "    for col in pct_cols:\n",
    "        df[col] = df[col] / 100.0\n",
    "\n",
    "    # 4) Convert timestamp to datetime\n",
    "    df['timestamp'] = pd.to_datetime(df['timestamp'], unit='s')\n",
    "\n",
    "    # 5) Write out with pure numeric columns (fractions, not \"%\")\n",
    "    df.to_csv(output_path, index=False)\n",
    "    print(f\"Written cleaned CSV to: {output_path}\")\n",
    "    return df\n"
   ]
  },
  {
   "cell_type": "code",
   "execution_count": 28,
   "id": "a16a1dba",
   "metadata": {},
   "outputs": [
    {
     "name": "stdout",
     "output_type": "stream",
     "text": [
      "['monitor_ace0_0.log', 'monitor_ace0_1.log', 'monitor_colmap_0.log', 'monitor_openmvg_0.log']\n"
     ]
    }
   ],
   "source": [
    "import os\n",
    "\n",
    "# 获取当前目录下所有 .log 文件\n",
    "log_files = [f for f in os.listdir() if f.endswith(\".log\")]\n",
    "print(log_files)"
   ]
  },
  {
   "cell_type": "code",
   "execution_count": 29,
   "id": "640d7497",
   "metadata": {},
   "outputs": [
    {
     "name": "stdout",
     "output_type": "stream",
     "text": [
      "Written cleaned CSV to: monitor_ace0_0.csv\n",
      "Written cleaned CSV to: monitor_ace0_1.csv\n",
      "Written cleaned CSV to: monitor_colmap_0.csv\n",
      "Written cleaned CSV to: monitor_openmvg_0.csv\n"
     ]
    }
   ],
   "source": [
    "for log_path in log_files:\n",
    "    # This will write out metrics1.csv, metrics2.csv, etc.\n",
    "    convert_metrics_log(input_path=log_path)"
   ]
  },
  {
   "cell_type": "code",
   "execution_count": 43,
   "id": "1d277d73",
   "metadata": {},
   "outputs": [],
   "source": [
    "def adjust_mem_capacity(\n",
    "    df: pd.DataFrame,\n",
    "    original_capacity_gib: float = 39.0,\n",
    "    new_capacity_gib: float = 31.0\n",
    ") -> pd.DataFrame:\n",
    "    \"\"\"\n",
    "    Given df with 'mem_percent' as a fraction of original_capacity_gib (0–1),\n",
    "    return a copy of df where 'mem_percent' is rescaled to be the fraction\n",
    "    of new_capacity_gib instead.\n",
    "\n",
    "    new_mem_percent = old_mem_percent * (original_capacity_gib / new_capacity_gib)\n",
    "    \"\"\"\n",
    "    df_adj = df.copy()\n",
    "    # ensure it's numeric\n",
    "    df_adj['mem_percent'] = pd.to_numeric(df_adj['mem_percent'], errors='coerce')\n",
    "    # rescale\n",
    "    scale = original_capacity_gib / new_capacity_gib\n",
    "    df_adj['mem_percent'] = df_adj['mem_percent'] * scale\n",
    "    return df_adj"
   ]
  },
  {
   "cell_type": "code",
   "execution_count": null,
   "id": "3e436207",
   "metadata": {},
   "outputs": [],
   "source": [
    "df_n = adjust_mem_capacity(df)\n",
    "df_n.to_csv('monitor_ace0_1_n.csv', index=False)"
   ]
  },
  {
   "cell_type": "code",
   "execution_count": 47,
   "id": "7a9e7e5a",
   "metadata": {},
   "outputs": [
    {
     "name": "stdout",
     "output_type": "stream",
     "text": [
      "                       timestamp  cpu_percent  mem_percent  gpu_util_percent  \\\n",
      "0  2025-05-09 20:19:31.083668709       0.0016     0.072229              0.00   \n",
      "1  2025-05-09 20:20:02.227812767       0.0009     0.071261              0.00   \n",
      "2  2025-05-09 20:20:33.313343525       0.0028     0.070053              0.00   \n",
      "3  2025-05-09 20:21:04.392442703       0.0160     0.088308              0.09   \n",
      "4  2025-05-09 20:21:35.479997158       0.0366     0.117450              0.00   \n",
      "\n",
      "   gpu_mem_used_mb  \n",
      "0             0.01  \n",
      "1             0.01  \n",
      "2             0.01  \n",
      "3             0.01  \n",
      "4             0.01  \n"
     ]
    }
   ],
   "source": [
    "# 读取 CSV 文件\n",
    "df = pd.read_csv(\"monitor_openmvg_0.csv\")\n",
    "\n",
    "# 显示前几行数据\n",
    "print(df.head())"
   ]
  },
  {
   "cell_type": "code",
   "execution_count": 49,
   "id": "20c0b52a",
   "metadata": {},
   "outputs": [],
   "source": [
    "df_n = adjust_mem_capacity(df)\n",
    "df_n.to_csv(\"monitor_openmvg_0_n.csv\", index=False)"
   ]
  },
  {
   "cell_type": "code",
   "execution_count": null,
   "id": "a0171306",
   "metadata": {},
   "outputs": [],
   "source": []
  }
 ],
 "metadata": {
  "kernelspec": {
   "display_name": "base",
   "language": "python",
   "name": "python3"
  },
  "language_info": {
   "codemirror_mode": {
    "name": "ipython",
    "version": 3
   },
   "file_extension": ".py",
   "mimetype": "text/x-python",
   "name": "python",
   "nbconvert_exporter": "python",
   "pygments_lexer": "ipython3",
   "version": "3.12.7"
  }
 },
 "nbformat": 4,
 "nbformat_minor": 5
}
