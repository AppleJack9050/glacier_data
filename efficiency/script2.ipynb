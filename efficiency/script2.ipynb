{
 "cells": [
  {
   "cell_type": "code",
   "execution_count": 1,
   "id": "08d0e50e",
   "metadata": {},
   "outputs": [],
   "source": [
    "import pandas as pd"
   ]
  },
  {
   "cell_type": "code",
   "execution_count": 4,
   "id": "773bcaec",
   "metadata": {},
   "outputs": [
    {
     "data": {
      "text/html": [
       "<div>\n",
       "<style scoped>\n",
       "    .dataframe tbody tr th:only-of-type {\n",
       "        vertical-align: middle;\n",
       "    }\n",
       "\n",
       "    .dataframe tbody tr th {\n",
       "        vertical-align: top;\n",
       "    }\n",
       "\n",
       "    .dataframe thead th {\n",
       "        text-align: right;\n",
       "    }\n",
       "</style>\n",
       "<table border=\"1\" class=\"dataframe\">\n",
       "  <thead>\n",
       "    <tr style=\"text-align: right;\">\n",
       "      <th></th>\n",
       "      <th>cpu_percent</th>\n",
       "      <th>mem_percent</th>\n",
       "      <th>gpu_util_percent</th>\n",
       "      <th>gpu_mem_used_mb</th>\n",
       "    </tr>\n",
       "    <tr>\n",
       "      <th>timestamp</th>\n",
       "      <th></th>\n",
       "      <th></th>\n",
       "      <th></th>\n",
       "      <th></th>\n",
       "    </tr>\n",
       "  </thead>\n",
       "  <tbody>\n",
       "    <tr>\n",
       "      <th>2025-05-04 19:27:53.247868299</th>\n",
       "      <td>0.0285</td>\n",
       "      <td>0.144274</td>\n",
       "      <td>0.00</td>\n",
       "      <td>0.02</td>\n",
       "    </tr>\n",
       "    <tr>\n",
       "      <th>2025-05-04 19:28:24.333576441</th>\n",
       "      <td>0.0943</td>\n",
       "      <td>0.298417</td>\n",
       "      <td>0.99</td>\n",
       "      <td>0.40</td>\n",
       "    </tr>\n",
       "    <tr>\n",
       "      <th>2025-05-04 19:28:55.408629179</th>\n",
       "      <td>0.0936</td>\n",
       "      <td>0.285770</td>\n",
       "      <td>0.98</td>\n",
       "      <td>0.40</td>\n",
       "    </tr>\n",
       "    <tr>\n",
       "      <th>2025-05-04 19:29:26.489167213</th>\n",
       "      <td>0.0948</td>\n",
       "      <td>0.285222</td>\n",
       "      <td>0.99</td>\n",
       "      <td>0.40</td>\n",
       "    </tr>\n",
       "    <tr>\n",
       "      <th>2025-05-04 19:29:57.571210146</th>\n",
       "      <td>0.0972</td>\n",
       "      <td>0.285407</td>\n",
       "      <td>0.98</td>\n",
       "      <td>0.40</td>\n",
       "    </tr>\n",
       "  </tbody>\n",
       "</table>\n",
       "</div>"
      ],
      "text/plain": [
       "                               cpu_percent  mem_percent  gpu_util_percent  \\\n",
       "timestamp                                                                   \n",
       "2025-05-04 19:27:53.247868299       0.0285     0.144274              0.00   \n",
       "2025-05-04 19:28:24.333576441       0.0943     0.298417              0.99   \n",
       "2025-05-04 19:28:55.408629179       0.0936     0.285770              0.98   \n",
       "2025-05-04 19:29:26.489167213       0.0948     0.285222              0.99   \n",
       "2025-05-04 19:29:57.571210146       0.0972     0.285407              0.98   \n",
       "\n",
       "                               gpu_mem_used_mb  \n",
       "timestamp                                       \n",
       "2025-05-04 19:27:53.247868299             0.02  \n",
       "2025-05-04 19:28:24.333576441             0.40  \n",
       "2025-05-04 19:28:55.408629179             0.40  \n",
       "2025-05-04 19:29:26.489167213             0.40  \n",
       "2025-05-04 19:29:57.571210146             0.40  "
      ]
     },
     "execution_count": 4,
     "metadata": {},
     "output_type": "execute_result"
    }
   ],
   "source": [
    "df = pd.read_csv('monitor_ace0.csv', index_col=0)\n",
    "df.head()"
   ]
  },
  {
   "cell_type": "code",
   "execution_count": 5,
   "id": "9607fd72",
   "metadata": {},
   "outputs": [
    {
     "data": {
      "text/html": [
       "<div>\n",
       "<style scoped>\n",
       "    .dataframe tbody tr th:only-of-type {\n",
       "        vertical-align: middle;\n",
       "    }\n",
       "\n",
       "    .dataframe tbody tr th {\n",
       "        vertical-align: top;\n",
       "    }\n",
       "\n",
       "    .dataframe thead th {\n",
       "        text-align: right;\n",
       "    }\n",
       "</style>\n",
       "<table border=\"1\" class=\"dataframe\">\n",
       "  <thead>\n",
       "    <tr style=\"text-align: right;\">\n",
       "      <th></th>\n",
       "      <th>cpu_percent</th>\n",
       "      <th>mem_percent</th>\n",
       "      <th>gpu_util_percent</th>\n",
       "      <th>gpu_mem_used_mb</th>\n",
       "    </tr>\n",
       "  </thead>\n",
       "  <tbody>\n",
       "    <tr>\n",
       "      <th>max</th>\n",
       "      <td>0.751600</td>\n",
       "      <td>0.321181</td>\n",
       "      <td>0.990000</td>\n",
       "      <td>0.400000</td>\n",
       "    </tr>\n",
       "    <tr>\n",
       "      <th>mean</th>\n",
       "      <td>0.102985</td>\n",
       "      <td>0.203415</td>\n",
       "      <td>0.187629</td>\n",
       "      <td>0.191753</td>\n",
       "    </tr>\n",
       "  </tbody>\n",
       "</table>\n",
       "</div>"
      ],
      "text/plain": [
       "      cpu_percent  mem_percent  gpu_util_percent  gpu_mem_used_mb\n",
       "max      0.751600     0.321181          0.990000         0.400000\n",
       "mean     0.102985     0.203415          0.187629         0.191753"
      ]
     },
     "execution_count": 5,
     "metadata": {},
     "output_type": "execute_result"
    }
   ],
   "source": [
    "df.agg([\"max\", \"mean\"])"
   ]
  },
  {
   "cell_type": "code",
   "execution_count": 6,
   "id": "11e74c59",
   "metadata": {},
   "outputs": [
    {
     "name": "stdout",
     "output_type": "stream",
     "text": [
      "All summaries saved to results\\summary.txt\n"
     ]
    }
   ],
   "source": [
    "import pandas as pd\n",
    "import os\n",
    "\n",
    "# --- Prepare your list of dataframes and their names ---\n",
    "# e.g. you already have df1, df2, df3 in your namespace\n",
    "df_ace0 = pd.read_csv('monitor_ace0.csv', index_col=0)\n",
    "df_openmvg = pd.read_csv('monitor_openmvg.csv', index_col=0)\n",
    "df_colmap = pd.read_csv('monitor_colmap.csv', index_col=0)\n",
    "\n",
    "dfs = [\n",
    "    ('ace0', df_ace0),\n",
    "    ('openmvg', df_openmvg),\n",
    "    ('colmap', df_colmap),\n",
    "    # add as many as you like...\n",
    "]\n",
    "\n",
    "# Folder & file\n",
    "output_folder = \"results\"\n",
    "output_file   = os.path.join(output_folder, \"summary.txt\")\n",
    "os.makedirs(output_folder, exist_ok=True)\n",
    "\n",
    "# Open once, write all summaries\n",
    "with open(output_file, \"w\") as f:\n",
    "    for name, df in dfs:\n",
    "        # 1) compute max & mean\n",
    "        summary = df.agg([\"max\", \"mean\"])\n",
    "        \n",
    "        # 2) write a header\n",
    "        f.write(f\"=== Summary for {name} ===\\n\")\n",
    "        \n",
    "        # 3) write the table\n",
    "        f.write(summary.to_string())\n",
    "        f.write(\"\\n\\n\")    # blank line between summaries\n",
    "\n",
    "print(f\"All summaries saved to {output_file}\")\n"
   ]
  }
 ],
 "metadata": {
  "kernelspec": {
   "display_name": "base",
   "language": "python",
   "name": "python3"
  },
  "language_info": {
   "codemirror_mode": {
    "name": "ipython",
    "version": 3
   },
   "file_extension": ".py",
   "mimetype": "text/x-python",
   "name": "python",
   "nbconvert_exporter": "python",
   "pygments_lexer": "ipython3",
   "version": "3.12.7"
  }
 },
 "nbformat": 4,
 "nbformat_minor": 5
}
