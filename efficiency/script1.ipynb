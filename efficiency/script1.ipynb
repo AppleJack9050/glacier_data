{
 "cells": [
  {
   "cell_type": "code",
   "execution_count": 1,
   "id": "2c8c683e",
   "metadata": {},
   "outputs": [
    {
     "data": {
      "text/html": [
       "<div>\n",
       "<style scoped>\n",
       "    .dataframe tbody tr th:only-of-type {\n",
       "        vertical-align: middle;\n",
       "    }\n",
       "\n",
       "    .dataframe tbody tr th {\n",
       "        vertical-align: top;\n",
       "    }\n",
       "\n",
       "    .dataframe thead th {\n",
       "        text-align: right;\n",
       "    }\n",
       "</style>\n",
       "<table border=\"1\" class=\"dataframe\">\n",
       "  <thead>\n",
       "    <tr style=\"text-align: right;\">\n",
       "      <th></th>\n",
       "      <th>timestamp</th>\n",
       "      <th>cpu_percent</th>\n",
       "      <th>mem_percent</th>\n",
       "      <th>gpu_util_percent</th>\n",
       "      <th>gpu_mem_used_mb</th>\n",
       "    </tr>\n",
       "  </thead>\n",
       "  <tbody>\n",
       "    <tr>\n",
       "      <th>0</th>\n",
       "      <td>2025-05-04 19:27:53.247868299</td>\n",
       "      <td>0.0285</td>\n",
       "      <td>0.144274</td>\n",
       "      <td>0.00</td>\n",
       "      <td>0.02</td>\n",
       "    </tr>\n",
       "    <tr>\n",
       "      <th>1</th>\n",
       "      <td>2025-05-04 19:28:24.333576441</td>\n",
       "      <td>0.0943</td>\n",
       "      <td>0.298417</td>\n",
       "      <td>0.99</td>\n",
       "      <td>0.40</td>\n",
       "    </tr>\n",
       "    <tr>\n",
       "      <th>2</th>\n",
       "      <td>2025-05-04 19:28:55.408629179</td>\n",
       "      <td>0.0936</td>\n",
       "      <td>0.285770</td>\n",
       "      <td>0.98</td>\n",
       "      <td>0.40</td>\n",
       "    </tr>\n",
       "    <tr>\n",
       "      <th>3</th>\n",
       "      <td>2025-05-04 19:29:26.489167213</td>\n",
       "      <td>0.0948</td>\n",
       "      <td>0.285222</td>\n",
       "      <td>0.99</td>\n",
       "      <td>0.40</td>\n",
       "    </tr>\n",
       "    <tr>\n",
       "      <th>4</th>\n",
       "      <td>2025-05-04 19:29:57.571210146</td>\n",
       "      <td>0.0972</td>\n",
       "      <td>0.285407</td>\n",
       "      <td>0.98</td>\n",
       "      <td>0.40</td>\n",
       "    </tr>\n",
       "  </tbody>\n",
       "</table>\n",
       "</div>"
      ],
      "text/plain": [
       "                       timestamp  cpu_percent  mem_percent  gpu_util_percent  \\\n",
       "0  2025-05-04 19:27:53.247868299       0.0285     0.144274              0.00   \n",
       "1  2025-05-04 19:28:24.333576441       0.0943     0.298417              0.99   \n",
       "2  2025-05-04 19:28:55.408629179       0.0936     0.285770              0.98   \n",
       "3  2025-05-04 19:29:26.489167213       0.0948     0.285222              0.99   \n",
       "4  2025-05-04 19:29:57.571210146       0.0972     0.285407              0.98   \n",
       "\n",
       "   gpu_mem_used_mb  \n",
       "0             0.02  \n",
       "1             0.40  \n",
       "2             0.40  \n",
       "3             0.40  \n",
       "4             0.40  "
      ]
     },
     "execution_count": 1,
     "metadata": {},
     "output_type": "execute_result"
    }
   ],
   "source": [
    "import pandas as pd\n",
    "\n",
    "# 1) Read your two “pandas files” into DataFrames\n",
    "df1 = pd.read_csv('monitor_ace0_0.csv')\n",
    "df2 = pd.read_csv('monitor_ace0_1.csv')\n",
    "\n",
    "# 2) Concatenate—this stacks df2 *below* df1\n",
    "df_all = pd.concat([df1, df2], ignore_index=True)\n",
    "df_all.head()"
   ]
  },
  {
   "cell_type": "code",
   "execution_count": 2,
   "id": "3eff2445",
   "metadata": {},
   "outputs": [
    {
     "data": {
      "text/plain": [
       "(87, 5)"
      ]
     },
     "execution_count": 2,
     "metadata": {},
     "output_type": "execute_result"
    }
   ],
   "source": [
    "df1.shape"
   ]
  },
  {
   "cell_type": "code",
   "execution_count": 3,
   "id": "017ccd91",
   "metadata": {},
   "outputs": [
    {
     "data": {
      "text/plain": [
       "(10, 5)"
      ]
     },
     "execution_count": 3,
     "metadata": {},
     "output_type": "execute_result"
    }
   ],
   "source": [
    "df2.shape"
   ]
  },
  {
   "cell_type": "code",
   "execution_count": 5,
   "id": "cc903440",
   "metadata": {},
   "outputs": [
    {
     "data": {
      "text/plain": [
       "(97, 5)"
      ]
     },
     "execution_count": 5,
     "metadata": {},
     "output_type": "execute_result"
    }
   ],
   "source": [
    "df_all.shape"
   ]
  },
  {
   "cell_type": "code",
   "execution_count": 6,
   "id": "43012a3c",
   "metadata": {},
   "outputs": [],
   "source": [
    "# 3) (Optional) write the combined table back out\n",
    "df_all.to_csv('monitor_ace0.csv', index=False)\n"
   ]
  },
  {
   "cell_type": "code",
   "execution_count": null,
   "id": "e5532f8e",
   "metadata": {},
   "outputs": [],
   "source": []
  }
 ],
 "metadata": {
  "kernelspec": {
   "display_name": "base",
   "language": "python",
   "name": "python3"
  },
  "language_info": {
   "codemirror_mode": {
    "name": "ipython",
    "version": 3
   },
   "file_extension": ".py",
   "mimetype": "text/x-python",
   "name": "python",
   "nbconvert_exporter": "python",
   "pygments_lexer": "ipython3",
   "version": "3.12.7"
  }
 },
 "nbformat": 4,
 "nbformat_minor": 5
}
